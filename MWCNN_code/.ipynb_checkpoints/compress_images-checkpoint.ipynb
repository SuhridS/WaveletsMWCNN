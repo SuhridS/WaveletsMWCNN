{
 "cells": [
  {
   "cell_type": "code",
   "execution_count": 40,
   "metadata": {},
   "outputs": [],
   "source": [
    "from PIL import Image\n",
    "import PIL\n",
    "import os\n",
    "import glob"
   ]
  },
  {
   "cell_type": "code",
   "execution_count": 41,
   "metadata": {},
   "outputs": [
    {
     "name": "stdout",
     "output_type": "stream",
     "text": [
      "C:\\Users\\suhri\\Desktop\\ECE 251C\\Project\\MWCNNv2\\MWCNN_code\\dark_images\n"
     ]
    }
   ],
   "source": [
    "!cd"
   ]
  },
  {
   "cell_type": "code",
   "execution_count": 46,
   "metadata": {},
   "outputs": [],
   "source": [
    "def compress_images(directory=False, quality=30):\n",
    "    # 1. If there is a directory then change into it, else perform the next operations inside of the \n",
    "    # current working directory:\n",
    "    if directory:\n",
    "        os.chdir(directory)\n",
    "\n",
    "    # 2. Extract all of the .png and .jpeg files:\n",
    "    files = os.listdir()\n",
    "\n",
    "    # 3. Extract all of the images:\n",
    "    images = [file for file in files if file.endswith(('bmp'))]\n",
    "\n",
    "    # 4. Loop over every image:\n",
    "    for image in images:\n",
    "        print(image)\n",
    "\n",
    "        # 5. Open every image:\n",
    "        img = Image.open(image)\n",
    "        \n",
    "        newsize = (512, 512) \n",
    "        img = img.resize(newsize) \n",
    "\n",
    "        # 5. Compress every image and save it with a new name:\n",
    "        img.save(\"Compressed_and_resized_with_function_\"+image, optimize=True, quality=quality)"
   ]
  },
  {
   "cell_type": "code",
   "execution_count": 47,
   "metadata": {},
   "outputs": [
    {
     "name": "stdout",
     "output_type": "stream",
     "text": [
      ".\n"
     ]
    }
   ],
   "source": [
    "subdirectory_path = '.'\n",
    "print(subdirectory_path)"
   ]
  },
  {
   "cell_type": "code",
   "execution_count": 48,
   "metadata": {},
   "outputs": [
    {
     "name": "stdout",
     "output_type": "stream",
     "text": [
      "IMG_20160202_015216Reference.bmp\n",
      "IMG_20160202_021953Reference.bmp\n",
      "IMG_20160204_035200Reference.bmp\n",
      "IMG_20160204_042548Reference.bmp\n",
      "IMG_20160209_015314Reference.bmp\n",
      "IMG_20160210_053755Reference.bmp\n",
      "IMG_20160210_053950Reference.bmp\n",
      "IMG_20160212_070855Reference.bmp\n",
      "IMG_20160219_053201Reference.bmp\n",
      "IMG_20160219_053839Reference.bmp\n",
      "IMG_20160219_054821Reference.bmp\n",
      "IMG_20160222_231715Reference.bmp\n",
      "IMG_20160224_051357Reference.bmp\n",
      "IMG_20160224_053659Reference.bmp\n"
     ]
    }
   ],
   "source": [
    "compress_images(directory=subdirectory_path)"
   ]
  },
  {
   "cell_type": "code",
   "execution_count": null,
   "metadata": {},
   "outputs": [],
   "source": []
  }
 ],
 "metadata": {
  "kernelspec": {
   "display_name": "Python 3",
   "language": "python",
   "name": "python3"
  },
  "language_info": {
   "codemirror_mode": {
    "name": "ipython",
    "version": 3
   },
   "file_extension": ".py",
   "mimetype": "text/x-python",
   "name": "python",
   "nbconvert_exporter": "python",
   "pygments_lexer": "ipython3",
   "version": "3.8.5"
  }
 },
 "nbformat": 4,
 "nbformat_minor": 4
}
